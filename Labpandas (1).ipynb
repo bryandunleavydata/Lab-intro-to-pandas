{
 "cells": [
  {
   "cell_type": "code",
   "execution_count": 1,
   "id": "9625e8e1",
   "metadata": {},
   "outputs": [],
   "source": [
    "import pandas as pd"
   ]
  },
  {
   "cell_type": "code",
   "execution_count": 15,
   "id": "023019cb",
   "metadata": {},
   "outputs": [],
   "source": [
    "import pandas as pd\n",
    "\n",
    "df = pd.read_csv('https://raw.githubusercontent.com/data-bootcamp-v4/data/main/file1.csv')\n"
   ]
  },
  {
   "cell_type": "code",
   "execution_count": 37,
   "id": "e543f19c",
   "metadata": {},
   "outputs": [
    {
     "data": {
      "text/html": [
       "<div>\n",
       "<style scoped>\n",
       "    .dataframe tbody tr th:only-of-type {\n",
       "        vertical-align: middle;\n",
       "    }\n",
       "\n",
       "    .dataframe tbody tr th {\n",
       "        vertical-align: top;\n",
       "    }\n",
       "\n",
       "    .dataframe thead th {\n",
       "        text-align: right;\n",
       "    }\n",
       "</style>\n",
       "<table border=\"1\" class=\"dataframe\">\n",
       "  <thead>\n",
       "    <tr style=\"text-align: right;\">\n",
       "      <th></th>\n",
       "      <th>Customer</th>\n",
       "      <th>ST</th>\n",
       "      <th>GENDER</th>\n",
       "      <th>Education</th>\n",
       "      <th>Customer Lifetime Value</th>\n",
       "      <th>Income</th>\n",
       "      <th>Monthly Premium Auto</th>\n",
       "      <th>Number of Open Complaints</th>\n",
       "      <th>Policy Type</th>\n",
       "      <th>Vehicle Class</th>\n",
       "      <th>Total Claim Amount</th>\n",
       "    </tr>\n",
       "  </thead>\n",
       "  <tbody>\n",
       "    <tr>\n",
       "      <th>0</th>\n",
       "      <td>RB50392</td>\n",
       "      <td>Washington</td>\n",
       "      <td>NaN</td>\n",
       "      <td>Master</td>\n",
       "      <td>7.936903e+05</td>\n",
       "      <td>0.0</td>\n",
       "      <td>1000.0</td>\n",
       "      <td>1/0/00</td>\n",
       "      <td>Personal Auto</td>\n",
       "      <td>Four-Door Car</td>\n",
       "      <td>2.704934</td>\n",
       "    </tr>\n",
       "    <tr>\n",
       "      <th>1</th>\n",
       "      <td>QZ44356</td>\n",
       "      <td>Arizona</td>\n",
       "      <td>F</td>\n",
       "      <td>Bachelor</td>\n",
       "      <td>6.979536e+05</td>\n",
       "      <td>0.0</td>\n",
       "      <td>94.0</td>\n",
       "      <td>1/0/00</td>\n",
       "      <td>Personal Auto</td>\n",
       "      <td>Four-Door Car</td>\n",
       "      <td>1131.464935</td>\n",
       "    </tr>\n",
       "    <tr>\n",
       "      <th>2</th>\n",
       "      <td>AI49188</td>\n",
       "      <td>Nevada</td>\n",
       "      <td>F</td>\n",
       "      <td>Bachelor</td>\n",
       "      <td>1.288743e+06</td>\n",
       "      <td>48767.0</td>\n",
       "      <td>108.0</td>\n",
       "      <td>1/0/00</td>\n",
       "      <td>Personal Auto</td>\n",
       "      <td>Two-Door Car</td>\n",
       "      <td>566.472247</td>\n",
       "    </tr>\n",
       "    <tr>\n",
       "      <th>3</th>\n",
       "      <td>WW63253</td>\n",
       "      <td>California</td>\n",
       "      <td>M</td>\n",
       "      <td>Bachelor</td>\n",
       "      <td>7.645862e+05</td>\n",
       "      <td>0.0</td>\n",
       "      <td>106.0</td>\n",
       "      <td>1/0/00</td>\n",
       "      <td>Corporate Auto</td>\n",
       "      <td>SUV</td>\n",
       "      <td>529.881344</td>\n",
       "    </tr>\n",
       "    <tr>\n",
       "      <th>4</th>\n",
       "      <td>GA49547</td>\n",
       "      <td>Washington</td>\n",
       "      <td>M</td>\n",
       "      <td>High School or Below</td>\n",
       "      <td>5.363077e+05</td>\n",
       "      <td>36357.0</td>\n",
       "      <td>68.0</td>\n",
       "      <td>1/0/00</td>\n",
       "      <td>Personal Auto</td>\n",
       "      <td>Four-Door Car</td>\n",
       "      <td>17.269323</td>\n",
       "    </tr>\n",
       "    <tr>\n",
       "      <th>...</th>\n",
       "      <td>...</td>\n",
       "      <td>...</td>\n",
       "      <td>...</td>\n",
       "      <td>...</td>\n",
       "      <td>...</td>\n",
       "      <td>...</td>\n",
       "      <td>...</td>\n",
       "      <td>...</td>\n",
       "      <td>...</td>\n",
       "      <td>...</td>\n",
       "      <td>...</td>\n",
       "    </tr>\n",
       "    <tr>\n",
       "      <th>1066</th>\n",
       "      <td>TM65736</td>\n",
       "      <td>Oregon</td>\n",
       "      <td>M</td>\n",
       "      <td>Master</td>\n",
       "      <td>3.059550e+05</td>\n",
       "      <td>38644.0</td>\n",
       "      <td>78.0</td>\n",
       "      <td>1/1/00</td>\n",
       "      <td>Personal Auto</td>\n",
       "      <td>Four-Door Car</td>\n",
       "      <td>361.455219</td>\n",
       "    </tr>\n",
       "    <tr>\n",
       "      <th>1067</th>\n",
       "      <td>VJ51327</td>\n",
       "      <td>Cali</td>\n",
       "      <td>F</td>\n",
       "      <td>High School or Below</td>\n",
       "      <td>2.031500e+06</td>\n",
       "      <td>63209.0</td>\n",
       "      <td>102.0</td>\n",
       "      <td>1/2/00</td>\n",
       "      <td>Personal Auto</td>\n",
       "      <td>SUV</td>\n",
       "      <td>207.320041</td>\n",
       "    </tr>\n",
       "    <tr>\n",
       "      <th>1068</th>\n",
       "      <td>GS98873</td>\n",
       "      <td>Arizona</td>\n",
       "      <td>F</td>\n",
       "      <td>Bachelor</td>\n",
       "      <td>3.239125e+05</td>\n",
       "      <td>16061.0</td>\n",
       "      <td>88.0</td>\n",
       "      <td>1/0/00</td>\n",
       "      <td>Personal Auto</td>\n",
       "      <td>Four-Door Car</td>\n",
       "      <td>633.600000</td>\n",
       "    </tr>\n",
       "    <tr>\n",
       "      <th>1069</th>\n",
       "      <td>CW49887</td>\n",
       "      <td>California</td>\n",
       "      <td>F</td>\n",
       "      <td>Master</td>\n",
       "      <td>4.626801e+05</td>\n",
       "      <td>79487.0</td>\n",
       "      <td>114.0</td>\n",
       "      <td>1/0/00</td>\n",
       "      <td>Special Auto</td>\n",
       "      <td>SUV</td>\n",
       "      <td>547.200000</td>\n",
       "    </tr>\n",
       "    <tr>\n",
       "      <th>1070</th>\n",
       "      <td>MY31220</td>\n",
       "      <td>California</td>\n",
       "      <td>F</td>\n",
       "      <td>College</td>\n",
       "      <td>8.997040e+05</td>\n",
       "      <td>54230.0</td>\n",
       "      <td>112.0</td>\n",
       "      <td>1/0/00</td>\n",
       "      <td>Personal Auto</td>\n",
       "      <td>Two-Door Car</td>\n",
       "      <td>537.600000</td>\n",
       "    </tr>\n",
       "  </tbody>\n",
       "</table>\n",
       "<p>1071 rows × 11 columns</p>\n",
       "</div>"
      ],
      "text/plain": [
       "     Customer          ST GENDER             Education  \\\n",
       "0     RB50392  Washington    NaN                Master   \n",
       "1     QZ44356     Arizona      F              Bachelor   \n",
       "2     AI49188      Nevada      F              Bachelor   \n",
       "3     WW63253  California      M              Bachelor   \n",
       "4     GA49547  Washington      M  High School or Below   \n",
       "...       ...         ...    ...                   ...   \n",
       "1066  TM65736      Oregon      M                Master   \n",
       "1067  VJ51327        Cali      F  High School or Below   \n",
       "1068  GS98873     Arizona      F              Bachelor   \n",
       "1069  CW49887  California      F                Master   \n",
       "1070  MY31220  California      F               College   \n",
       "\n",
       "      Customer Lifetime Value   Income  Monthly Premium Auto  \\\n",
       "0                7.936903e+05      0.0                1000.0   \n",
       "1                6.979536e+05      0.0                  94.0   \n",
       "2                1.288743e+06  48767.0                 108.0   \n",
       "3                7.645862e+05      0.0                 106.0   \n",
       "4                5.363077e+05  36357.0                  68.0   \n",
       "...                       ...      ...                   ...   \n",
       "1066             3.059550e+05  38644.0                  78.0   \n",
       "1067             2.031500e+06  63209.0                 102.0   \n",
       "1068             3.239125e+05  16061.0                  88.0   \n",
       "1069             4.626801e+05  79487.0                 114.0   \n",
       "1070             8.997040e+05  54230.0                 112.0   \n",
       "\n",
       "     Number of Open Complaints     Policy Type  Vehicle Class  \\\n",
       "0                       1/0/00   Personal Auto  Four-Door Car   \n",
       "1                       1/0/00   Personal Auto  Four-Door Car   \n",
       "2                       1/0/00   Personal Auto   Two-Door Car   \n",
       "3                       1/0/00  Corporate Auto            SUV   \n",
       "4                       1/0/00   Personal Auto  Four-Door Car   \n",
       "...                        ...             ...            ...   \n",
       "1066                    1/1/00   Personal Auto  Four-Door Car   \n",
       "1067                    1/2/00   Personal Auto            SUV   \n",
       "1068                    1/0/00   Personal Auto  Four-Door Car   \n",
       "1069                    1/0/00    Special Auto            SUV   \n",
       "1070                    1/0/00   Personal Auto   Two-Door Car   \n",
       "\n",
       "      Total Claim Amount  \n",
       "0               2.704934  \n",
       "1            1131.464935  \n",
       "2             566.472247  \n",
       "3             529.881344  \n",
       "4              17.269323  \n",
       "...                  ...  \n",
       "1066          361.455219  \n",
       "1067          207.320041  \n",
       "1068          633.600000  \n",
       "1069          547.200000  \n",
       "1070          537.600000  \n",
       "\n",
       "[1071 rows x 11 columns]"
      ]
     },
     "execution_count": 37,
     "metadata": {},
     "output_type": "execute_result"
    }
   ],
   "source": [
    "df"
   ]
  },
  {
   "cell_type": "code",
   "execution_count": 5,
   "id": "d3d415f5",
   "metadata": {},
   "outputs": [
    {
     "data": {
      "text/plain": [
       "(4008, 11)"
      ]
     },
     "execution_count": 5,
     "metadata": {},
     "output_type": "execute_result"
    }
   ],
   "source": [
    "df.shape"
   ]
  },
  {
   "cell_type": "code",
   "execution_count": 33,
   "id": "cc003f21",
   "metadata": {},
   "outputs": [
    {
     "name": "stdout",
     "output_type": "stream",
     "text": [
      "<class 'pandas.core.frame.DataFrame'>\n",
      "Int64Index: 1071 entries, 0 to 1070\n",
      "Data columns (total 11 columns):\n",
      " #   Column                     Non-Null Count  Dtype  \n",
      "---  ------                     --------------  -----  \n",
      " 0   Customer                   1071 non-null   object \n",
      " 1   ST                         1071 non-null   object \n",
      " 2   GENDER                     954 non-null    object \n",
      " 3   Education                  1071 non-null   object \n",
      " 4   Customer Lifetime Value    1071 non-null   float64\n",
      " 5   Income                     1071 non-null   float64\n",
      " 6   Monthly Premium Auto       1071 non-null   float64\n",
      " 7   Number of Open Complaints  1071 non-null   object \n",
      " 8   Policy Type                1071 non-null   object \n",
      " 9   Vehicle Class              1071 non-null   object \n",
      " 10  Total Claim Amount         1071 non-null   float64\n",
      "dtypes: float64(4), object(7)\n",
      "memory usage: 100.4+ KB\n"
     ]
    }
   ],
   "source": [
    "df.info()"
   ]
  },
  {
   "cell_type": "code",
   "execution_count": 19,
   "id": "564b60e2",
   "metadata": {},
   "outputs": [
    {
     "name": "stdout",
     "output_type": "stream",
     "text": [
      "\n",
      "Value counts for column 'Customer':\n",
      "1071\n",
      "\n",
      "Value counts for column 'ST':\n",
      "8\n",
      "\n",
      "Value counts for column 'GENDER':\n",
      "5\n",
      "\n",
      "Value counts for column 'Education':\n",
      "6\n",
      "\n",
      "Value counts for column 'Customer Lifetime Value':\n",
      "1027\n",
      "\n",
      "Value counts for column 'Income':\n",
      "774\n",
      "\n",
      "Value counts for column 'Monthly Premium Auto':\n",
      "132\n",
      "\n",
      "Value counts for column 'Number of Open Complaints':\n",
      "6\n",
      "\n",
      "Value counts for column 'Policy Type':\n",
      "3\n",
      "\n",
      "Value counts for column 'Vehicle Class':\n",
      "6\n",
      "\n",
      "Value counts for column 'Total Claim Amount':\n",
      "761\n"
     ]
    }
   ],
   "source": [
    "\n",
    "columns_to_count = [\n",
    "    'Customer', 'ST', 'GENDER', 'Education', 'Customer Lifetime Value',\n",
    "    'Income', 'Monthly Premium Auto', 'Number of Open Complaints',\n",
    "    'Policy Type', 'Vehicle Class', 'Total Claim Amount'\n",
    "]\n",
    "\n",
    "value_counts_dict = {}\n",
    "\n",
    "\n",
    "for column in columns_to_count:\n",
    "    value_counts_dict[column] = df[column].nunique()\n",
    "\n",
    "for column, counts in value_counts_dict.items():\n",
    "    print(f\"\\nValue counts for column '{column}':\\n{counts}\")\n"
   ]
  },
  {
   "cell_type": "code",
   "execution_count": 21,
   "id": "ca2b0738",
   "metadata": {},
   "outputs": [],
   "source": [
    "df['Customer Lifetime Value'] = df['Customer Lifetime Value'].str.replace('%', '')\n",
    "\n"
   ]
  },
  {
   "cell_type": "code",
   "execution_count": 22,
   "id": "0b2e0826",
   "metadata": {},
   "outputs": [],
   "source": [
    "df['Customer Lifetime Value'] = df['Customer Lifetime Value'].astype(float)\n",
    "\n"
   ]
  },
  {
   "cell_type": "code",
   "execution_count": 24,
   "id": "f6f78cb0",
   "metadata": {},
   "outputs": [],
   "source": [
    "\n",
    "threshold = len(df.columns) - 5\n",
    "\n",
    "\n",
    "df_filtered = df.dropna(thresh=threshold)\n",
    "\n",
    "\n"
   ]
  },
  {
   "cell_type": "code",
   "execution_count": 26,
   "id": "bcad8334",
   "metadata": {},
   "outputs": [],
   "source": [
    "df = df.dropna(subset=['Customer'])\n"
   ]
  },
  {
   "cell_type": "code",
   "execution_count": 31,
   "id": "7f9b30a7",
   "metadata": {},
   "outputs": [],
   "source": [
    "mean_customer_lifetime_value = df['Customer Lifetime Value'].mean()"
   ]
  },
  {
   "cell_type": "code",
   "execution_count": 32,
   "id": "789ad133",
   "metadata": {},
   "outputs": [
    {
     "name": "stderr",
     "output_type": "stream",
     "text": [
      "/var/folders/5w/l2b_mycn1hjf2d6nrhbhwsf00000gn/T/ipykernel_13586/1600556073.py:1: SettingWithCopyWarning: \n",
      "A value is trying to be set on a copy of a slice from a DataFrame\n",
      "\n",
      "See the caveats in the documentation: https://pandas.pydata.org/pandas-docs/stable/user_guide/indexing.html#returning-a-view-versus-a-copy\n",
      "  df['Customer Lifetime Value'].fillna(mean_customer_lifetime_value, inplace=True)\n"
     ]
    }
   ],
   "source": [
    "df['Customer Lifetime Value'].fillna(mean_customer_lifetime_value, inplace=True)\n"
   ]
  },
  {
   "cell_type": "code",
   "execution_count": 35,
   "id": "345399ba",
   "metadata": {},
   "outputs": [
    {
     "name": "stdout",
     "output_type": "stream",
     "text": [
      "       Customer Lifetime Value        Income  Monthly Premium Auto  \\\n",
      "count             1.071000e+03   1071.000000           1071.000000   \n",
      "mean              7.936903e+05  39295.701214            193.234360   \n",
      "std               6.425757e+05  30469.427060           1601.190369   \n",
      "min               2.004351e+05      0.000000             61.000000   \n",
      "25%               4.048535e+05  14072.000000             68.000000   \n",
      "50%               5.887182e+05  36234.000000             83.000000   \n",
      "75%               8.945210e+05  64631.000000            109.500000   \n",
      "max               5.816655e+06  99960.000000          35354.000000   \n",
      "\n",
      "       Total Claim Amount  \n",
      "count         1071.000000  \n",
      "mean           404.986909  \n",
      "std            293.027260  \n",
      "min              0.382107  \n",
      "25%            202.157702  \n",
      "50%            354.729129  \n",
      "75%            532.800000  \n",
      "max           2893.239678  \n",
      "     Customer      ST GENDER Education  Customer Lifetime Value  Income  \\\n",
      "0     AA71604  Oregon      F  Bachelor                251459.20     0.0   \n",
      "1     AB13432     NaN    NaN       NaN                445811.34     NaN   \n",
      "2     AB60627     NaN    NaN       NaN                      NaN     NaN   \n",
      "3     AB72731     NaN    NaN       NaN                      NaN     NaN   \n",
      "4     AB96670     NaN    NaN       NaN                      NaN     NaN   \n",
      "...       ...     ...    ...       ...                      ...     ...   \n",
      "1066  ZX23819     NaN    NaN       NaN                      NaN     NaN   \n",
      "1067  ZX64745     NaN    NaN       NaN                      NaN     NaN   \n",
      "1068  ZX86243     NaN    NaN       NaN                      NaN     NaN   \n",
      "1069  ZZ91716     NaN    NaN       NaN                      NaN     NaN   \n",
      "1070  ZZ97035     NaN    NaN       NaN                      NaN     NaN   \n",
      "\n",
      "      Monthly Premium Auto Number of Open Complaints    Policy Type  \\\n",
      "0                     65.0                    1/0/00  Personal Auto   \n",
      "1                      NaN                       NaN            NaN   \n",
      "2                      NaN                       NaN            NaN   \n",
      "3                      NaN                       NaN            NaN   \n",
      "4                      NaN                       NaN            NaN   \n",
      "...                    ...                       ...            ...   \n",
      "1066                   NaN                       NaN            NaN   \n",
      "1067                   NaN                       NaN            NaN   \n",
      "1068                   NaN                       NaN            NaN   \n",
      "1069                   NaN                       NaN            NaN   \n",
      "1070                   NaN                       NaN            NaN   \n",
      "\n",
      "      Vehicle Class  Total Claim Amount  \n",
      "0     Four-Door Car               321.6  \n",
      "1               NaN                 NaN  \n",
      "2               NaN                 NaN  \n",
      "3               NaN                 NaN  \n",
      "4               NaN                 NaN  \n",
      "...             ...                 ...  \n",
      "1066            NaN                 NaN  \n",
      "1067            NaN                 NaN  \n",
      "1068            NaN                 NaN  \n",
      "1069            NaN                 NaN  \n",
      "1070            NaN                 NaN  \n",
      "\n",
      "[1071 rows x 11 columns]\n",
      "Customer Lifetime Value    642575.704559\n",
      "Income                      30469.427060\n",
      "Monthly Premium Auto         1601.190369\n",
      "Total Claim Amount            293.027260\n",
      "dtype: float64\n",
      "      Customer Lifetime Value   Income  Monthly Premium Auto  \\\n",
      "0.25               404853.460  14072.0                  68.0   \n",
      "0.50               588718.200  36234.0                  83.0   \n",
      "0.75               894520.995  64631.0                 109.5   \n",
      "\n",
      "      Total Claim Amount  \n",
      "0.25          202.157702  \n",
      "0.50          354.729129  \n",
      "0.75          532.800000  \n"
     ]
    },
    {
     "name": "stderr",
     "output_type": "stream",
     "text": [
      "/var/folders/5w/l2b_mycn1hjf2d6nrhbhwsf00000gn/T/ipykernel_13586/4051132729.py:14: FutureWarning: The default value of numeric_only in DataFrame.std is deprecated. In a future version, it will default to False. In addition, specifying 'numeric_only=None' is deprecated. Select only valid columns or specify the value of numeric_only to silence this warning.\n",
      "  std_dev_numerical = df.std()\n",
      "/var/folders/5w/l2b_mycn1hjf2d6nrhbhwsf00000gn/T/ipykernel_13586/4051132729.py:15: FutureWarning: The default value of numeric_only in DataFrame.quantile is deprecated. In a future version, it will default to False. Select only valid columns or specify the value of numeric_only to silence this warning.\n",
      "  quartiles_numerical = df.quantile([0.25, 0.50, 0.75])\n"
     ]
    }
   ],
   "source": [
    "\n",
    "summary_numerical = df.describe()\n",
    "\n",
    "print(summary_numerical)\n",
    "\n",
    "\n",
    "mode_numerical = df.mode()\n",
    "\n",
    "\n",
    "print(mode_numerical)\n",
    "\n",
    "std_dev_numerical = df.std()\n",
    "quartiles_numerical = df.quantile([0.25, 0.50, 0.75])\n",
    "\n",
    "print(std_dev_numerical)\n",
    "print(quartiles_numerical)\n"
   ]
  },
  {
   "cell_type": "code",
   "execution_count": 36,
   "id": "5f532770",
   "metadata": {},
   "outputs": [
    {
     "name": "stdout",
     "output_type": "stream",
     "text": [
      "       Customer      ST GENDER Education Number of Open Complaints  \\\n",
      "count      1071    1071    954      1071                      1071   \n",
      "unique     1071       8      5         6                         6   \n",
      "top     RB50392  Oregon      F  Bachelor                    1/0/00   \n",
      "freq          1     320    457       324                       830   \n",
      "\n",
      "          Policy Type  Vehicle Class  \n",
      "count            1071           1071  \n",
      "unique              3              6  \n",
      "top     Personal Auto  Four-Door Car  \n",
      "freq              780            576  \n",
      "     Customer      ST GENDER Education  Customer Lifetime Value  Income  \\\n",
      "0     AA71604  Oregon      F  Bachelor                251459.20     0.0   \n",
      "1     AB13432     NaN    NaN       NaN                445811.34     NaN   \n",
      "2     AB60627     NaN    NaN       NaN                      NaN     NaN   \n",
      "3     AB72731     NaN    NaN       NaN                      NaN     NaN   \n",
      "4     AB96670     NaN    NaN       NaN                      NaN     NaN   \n",
      "...       ...     ...    ...       ...                      ...     ...   \n",
      "1066  ZX23819     NaN    NaN       NaN                      NaN     NaN   \n",
      "1067  ZX64745     NaN    NaN       NaN                      NaN     NaN   \n",
      "1068  ZX86243     NaN    NaN       NaN                      NaN     NaN   \n",
      "1069  ZZ91716     NaN    NaN       NaN                      NaN     NaN   \n",
      "1070  ZZ97035     NaN    NaN       NaN                      NaN     NaN   \n",
      "\n",
      "      Monthly Premium Auto Number of Open Complaints    Policy Type  \\\n",
      "0                     65.0                    1/0/00  Personal Auto   \n",
      "1                      NaN                       NaN            NaN   \n",
      "2                      NaN                       NaN            NaN   \n",
      "3                      NaN                       NaN            NaN   \n",
      "4                      NaN                       NaN            NaN   \n",
      "...                    ...                       ...            ...   \n",
      "1066                   NaN                       NaN            NaN   \n",
      "1067                   NaN                       NaN            NaN   \n",
      "1068                   NaN                       NaN            NaN   \n",
      "1069                   NaN                       NaN            NaN   \n",
      "1070                   NaN                       NaN            NaN   \n",
      "\n",
      "      Vehicle Class  Total Claim Amount  \n",
      "0     Four-Door Car               321.6  \n",
      "1               NaN                 NaN  \n",
      "2               NaN                 NaN  \n",
      "3               NaN                 NaN  \n",
      "4               NaN                 NaN  \n",
      "...             ...                 ...  \n",
      "1066            NaN                 NaN  \n",
      "1067            NaN                 NaN  \n",
      "1068            NaN                 NaN  \n",
      "1069            NaN                 NaN  \n",
      "1070            NaN                 NaN  \n",
      "\n",
      "[1071 rows x 11 columns]\n",
      "\n",
      "Value counts for column 'Customer':\n",
      "RB50392    1\n",
      "HJ15383    1\n",
      "AO74776    1\n",
      "HQ82233    1\n",
      "OL72737    1\n",
      "          ..\n",
      "RO26085    1\n",
      "ES57969    1\n",
      "JK55587    1\n",
      "RN97635    1\n",
      "MY31220    1\n",
      "Name: Customer, Length: 1071, dtype: int64\n",
      "\n",
      "Value counts for column 'ST':\n",
      "Oregon        320\n",
      "California    211\n",
      "Arizona       186\n",
      "Cali          120\n",
      "Nevada         98\n",
      "Washington     81\n",
      "WA             30\n",
      "AZ             25\n",
      "Name: ST, dtype: int64\n",
      "\n",
      "Value counts for column 'GENDER':\n",
      "F         457\n",
      "M         413\n",
      "Male       39\n",
      "female     28\n",
      "Femal      17\n",
      "Name: GENDER, dtype: int64\n",
      "\n",
      "Value counts for column 'Education':\n",
      "Bachelor                324\n",
      "College                 313\n",
      "High School or Below    296\n",
      "Master                   94\n",
      "Doctor                   37\n",
      "Bachelors                 7\n",
      "Name: Education, dtype: int64\n",
      "\n",
      "Value counts for column 'Number of Open Complaints':\n",
      "1/0/00    830\n",
      "1/1/00    138\n",
      "1/2/00     50\n",
      "1/3/00     34\n",
      "1/4/00     13\n",
      "1/5/00      6\n",
      "Name: Number of Open Complaints, dtype: int64\n",
      "\n",
      "Value counts for column 'Policy Type':\n",
      "Personal Auto     780\n",
      "Corporate Auto    234\n",
      "Special Auto       57\n",
      "Name: Policy Type, dtype: int64\n",
      "\n",
      "Value counts for column 'Vehicle Class':\n",
      "Four-Door Car    576\n",
      "Two-Door Car     205\n",
      "SUV              199\n",
      "Sports Car        57\n",
      "Luxury SUV        20\n",
      "Luxury Car        14\n",
      "Name: Vehicle Class, dtype: int64\n"
     ]
    }
   ],
   "source": [
    "\n",
    "summary_categorical = df.describe(include='object')\n",
    "\n",
    "\n",
    "print(summary_categorical)\n",
    "\n",
    "mode_categorical = df.mode(numeric_only=False)\n",
    "\n",
    "\n",
    "print(mode_categorical)\n",
    "\n",
    "\n",
    "value_counts_categorical = {}\n",
    "for column in df.select_dtypes(include='object').columns:\n",
    "    value_counts_categorical[column] = df[column].value_counts()\n",
    "\n",
    "\n",
    "for column, value_counts in value_counts_categorical.items():\n",
    "    print(f\"\\nValue counts for column '{column}':\\n{value_counts}\")\n"
   ]
  },
  {
   "cell_type": "code",
   "execution_count": 49,
   "id": "896c25c2",
   "metadata": {},
   "outputs": [
    {
     "name": "stdout",
     "output_type": "stream",
     "text": [
      "Nevada         98\n",
      "Washington    111\n",
      "Arizona       211\n",
      "Oregon        320\n",
      "California    331\n",
      "Name: ST, dtype: int64\n"
     ]
    }
   ],
   "source": [
    "\n",
    "customer_locations_series = df['ST'].value_counts()\n",
    "\n",
    "top_5_less_common = customer_locations_series.nsmallest(5)\n",
    "\n",
    "print(top_5_less_common)\n"
   ]
  },
  {
   "cell_type": "code",
   "execution_count": 40,
   "id": "c992453e",
   "metadata": {},
   "outputs": [
    {
     "name": "stderr",
     "output_type": "stream",
     "text": [
      "/var/folders/5w/l2b_mycn1hjf2d6nrhbhwsf00000gn/T/ipykernel_13586/1400885739.py:1: SettingWithCopyWarning: \n",
      "A value is trying to be set on a copy of a slice from a DataFrame\n",
      "\n",
      "See the caveats in the documentation: https://pandas.pydata.org/pandas-docs/stable/user_guide/indexing.html#returning-a-view-versus-a-copy\n",
      "  df['ST'].replace('WA', 'Washington', inplace=True)\n"
     ]
    }
   ],
   "source": [
    "df['ST'].replace('WA', 'Washington', inplace=True)"
   ]
  },
  {
   "cell_type": "code",
   "execution_count": 42,
   "id": "9d8e91b0",
   "metadata": {},
   "outputs": [
    {
     "name": "stderr",
     "output_type": "stream",
     "text": [
      "/var/folders/5w/l2b_mycn1hjf2d6nrhbhwsf00000gn/T/ipykernel_13586/3863480222.py:1: SettingWithCopyWarning: \n",
      "A value is trying to be set on a copy of a slice from a DataFrame\n",
      "\n",
      "See the caveats in the documentation: https://pandas.pydata.org/pandas-docs/stable/user_guide/indexing.html#returning-a-view-versus-a-copy\n",
      "  df['ST'].replace('AZ', 'Arizona', inplace=True)\n"
     ]
    }
   ],
   "source": [
    "df['ST'].replace('AZ', 'Arizona', inplace=True)"
   ]
  },
  {
   "cell_type": "code",
   "execution_count": 48,
   "id": "f65a9412",
   "metadata": {},
   "outputs": [
    {
     "name": "stderr",
     "output_type": "stream",
     "text": [
      "/var/folders/5w/l2b_mycn1hjf2d6nrhbhwsf00000gn/T/ipykernel_13586/2558927367.py:1: SettingWithCopyWarning: \n",
      "A value is trying to be set on a copy of a slice from a DataFrame\n",
      "\n",
      "See the caveats in the documentation: https://pandas.pydata.org/pandas-docs/stable/user_guide/indexing.html#returning-a-view-versus-a-copy\n",
      "  df['ST'].replace('CAlifornia', 'California', inplace=True)\n"
     ]
    }
   ],
   "source": [
    "df['ST'].replace('CAlifornia', 'California', inplace=True)"
   ]
  },
  {
   "cell_type": "code",
   "execution_count": 50,
   "id": "3929f8de",
   "metadata": {},
   "outputs": [
    {
     "name": "stdout",
     "output_type": "stream",
     "text": [
      "count    1071.000000\n",
      "mean      404.986909\n",
      "std       293.027260\n",
      "min         0.382107\n",
      "25%       202.157702\n",
      "50%       354.729129\n",
      "75%       532.800000\n",
      "max      2893.239678\n",
      "Name: Total Claim Amount, dtype: float64\n"
     ]
    }
   ],
   "source": [
    "\n",
    "claim_amount_stats = df['Total Claim Amount'].describe()\n",
    "print(claim_amount_stats)\n"
   ]
  },
  {
   "cell_type": "code",
   "execution_count": 51,
   "id": "7d3b48f1",
   "metadata": {},
   "outputs": [
    {
     "name": "stdout",
     "output_type": "stream",
     "text": [
      "75th percentile: 532.8\n"
     ]
    }
   ],
   "source": [
    "threshold = df['Total Claim Amount'].quantile(0.75)\n",
    "print(\"75th percentile:\", threshold)"
   ]
  },
  {
   "cell_type": "code",
   "execution_count": 52,
   "id": "d0d80923",
   "metadata": {},
   "outputs": [
    {
     "name": "stdout",
     "output_type": "stream",
     "text": [
      "     Customer          ST GENDER Education  Customer Lifetime Value   Income  \\\n",
      "1     QZ44356     Arizona      F  Bachelor                697953.59      0.0   \n",
      "2     AI49188      Nevada      F  Bachelor               1288743.17  48767.0   \n",
      "17    OE15005  California    NaN   College                394524.16  28855.0   \n",
      "23    TZ98966      Nevada    NaN  Bachelor                245019.10      0.0   \n",
      "26    US89481  California    NaN  Bachelor                394637.21      0.0   \n",
      "...       ...         ...    ...       ...                      ...      ...   \n",
      "1059  YG44474      Oregon      M   College               1401472.13  54193.0   \n",
      "1061  RY92647  California      F  Bachelor               1050677.17      0.0   \n",
      "1068  GS98873     Arizona      F  Bachelor                323912.47  16061.0   \n",
      "1069  CW49887  California      F    Master                462680.11  79487.0   \n",
      "1070  MY31220  California      F   College                899704.02  54230.0   \n",
      "\n",
      "      Monthly Premium Auto Number of Open Complaints     Policy Type  \\\n",
      "1                     94.0                    1/0/00   Personal Auto   \n",
      "2                    108.0                    1/0/00   Personal Auto   \n",
      "17                   101.0                    1/0/00   Personal Auto   \n",
      "23                    73.0                    1/3/00  Corporate Auto   \n",
      "26                   111.0                    1/0/00   Personal Auto   \n",
      "...                    ...                       ...             ...   \n",
      "1059                 117.0                    1/0/00  Corporate Auto   \n",
      "1061                  92.0                    1/0/00   Personal Auto   \n",
      "1068                  88.0                    1/0/00   Personal Auto   \n",
      "1069                 114.0                    1/0/00    Special Auto   \n",
      "1070                 112.0                    1/0/00   Personal Auto   \n",
      "\n",
      "      Vehicle Class  Total Claim Amount  \n",
      "1     Four-Door Car         1131.464935  \n",
      "2      Two-Door Car          566.472247  \n",
      "17              SUV          647.442031  \n",
      "23    Four-Door Car          554.376763  \n",
      "26    Four-Door Car          799.200000  \n",
      "...             ...                 ...  \n",
      "1059            SUV          720.752945  \n",
      "1061  Four-Door Car          546.524896  \n",
      "1068  Four-Door Car          633.600000  \n",
      "1069            SUV          547.200000  \n",
      "1070   Two-Door Car          537.600000  \n",
      "\n",
      "[264 rows x 11 columns]\n"
     ]
    }
   ],
   "source": [
    "high_claim_amount_customers = df[df['Total Claim Amount'] > threshold]\n",
    "\n",
    "# Display the DataFrame\n",
    "print(high_claim_amount_customers)"
   ]
  },
  {
   "cell_type": "code",
   "execution_count": 53,
   "id": "76d2e3ba",
   "metadata": {},
   "outputs": [
    {
     "name": "stdout",
     "output_type": "stream",
     "text": [
      "Personal Auto     780\n",
      "Corporate Auto    234\n",
      "Special Auto       57\n",
      "Name: Policy Type, dtype: int64\n",
      "Policy with the highest number of policies sold: Personal Auto\n"
     ]
    }
   ],
   "source": [
    "policy_counts_series = df['Policy Type'].value_counts()\n",
    "\n",
    "\n",
    "print(policy_counts_series)\n",
    "\n",
    "policy_with_highest_sales = policy_counts_series.idxmax()\n",
    "\n",
    "print(\"Policy with the highest number of policies sold:\", policy_with_highest_sales)"
   ]
  },
  {
   "cell_type": "code",
   "execution_count": 56,
   "id": "904db6bf",
   "metadata": {},
   "outputs": [
    {
     "name": "stdout",
     "output_type": "stream",
     "text": [
      "Average income for Personal Auto policies: 38180.69871794872\n",
      "Average income for Corporate Auto policies: 41390.31196581197\n"
     ]
    }
   ],
   "source": [
    "personal_auto_df = df.loc[df['Policy Type'] == 'Personal Auto']\n",
    "\n",
    "corporate_auto_df = df.loc[df['Policy Type'] == 'Corporate Auto']\n",
    "\n",
    "average_income_personal_auto = personal_auto_df['Income'].mean()\n",
    "\n",
    "average_income_corporate_auto = corporate_auto_df['Income'].mean()\n",
    "\n",
    "print(\"Average income for Personal Auto policies:\", average_income_personal_auto)\n",
    "print(\"Average income for Corporate Auto policies:\", average_income_corporate_auto)"
   ]
  },
  {
   "cell_type": "code",
   "execution_count": null,
   "id": "de5b8f34",
   "metadata": {},
   "outputs": [],
   "source": []
  }
 ],
 "metadata": {
  "kernelspec": {
   "display_name": "Python 3 (ipykernel)",
   "language": "python",
   "name": "python3"
  },
  "language_info": {
   "codemirror_mode": {
    "name": "ipython",
    "version": 3
   },
   "file_extension": ".py",
   "mimetype": "text/x-python",
   "name": "python",
   "nbconvert_exporter": "python",
   "pygments_lexer": "ipython3",
   "version": "3.10.9"
  }
 },
 "nbformat": 4,
 "nbformat_minor": 5
}
